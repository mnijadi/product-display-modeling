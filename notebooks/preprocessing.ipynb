{
 "cells": [
  {
   "cell_type": "markdown",
   "metadata": {},
   "source": [
    "# Feature Engineering and Preprocessing"
   ]
  },
  {
   "cell_type": "markdown",
   "metadata": {},
   "source": [
    "## Importing Libraries and Loading Data"
   ]
  },
  {
   "cell_type": "code",
   "execution_count": 1,
   "metadata": {},
   "outputs": [],
   "source": [
    "import numpy as np\n",
    "import pandas as pd\n",
    "import matplotlib.pyplot as plt\n",
    "import seaborn as sns\n",
    "\n",
    "import sys\n",
    "sys.path.append('../utils')\n",
    "\n",
    "from MDLP import MDLP_Discretizer\n",
    "from sklearn.preprocessing import OneHotEncoder, StandardScaler\n",
    "from sklearn.pipeline import Pipeline\n",
    "from sklearn.model_selection import train_test_split\n",
    "from sklearn.metrics import accuracy_score, precision_score, recall_score, f1_score, confusion_matrix, classification_report, ConfusionMatrixDisplay\n",
    "from sklearn.linear_model import LogisticRegression\n",
    "\n",
    "%matplotlib inline"
   ]
  },
  {
   "cell_type": "code",
   "execution_count": 2,
   "metadata": {},
   "outputs": [
    {
     "data": {
      "text/html": [
       "<div>\n",
       "<style scoped>\n",
       "    .dataframe tbody tr th:only-of-type {\n",
       "        vertical-align: middle;\n",
       "    }\n",
       "\n",
       "    .dataframe tbody tr th {\n",
       "        vertical-align: top;\n",
       "    }\n",
       "\n",
       "    .dataframe thead th {\n",
       "        text-align: right;\n",
       "    }\n",
       "</style>\n",
       "<table border=\"1\" class=\"dataframe\">\n",
       "  <thead>\n",
       "    <tr style=\"text-align: right;\">\n",
       "      <th></th>\n",
       "      <th>X1_cor_sales_in_vol</th>\n",
       "      <th>X2_cor_sales_in_val</th>\n",
       "      <th>X3_CA_mag</th>\n",
       "      <th>X4_value</th>\n",
       "      <th>X6_VenteConv</th>\n",
       "      <th>X5_ENSEIGNE</th>\n",
       "      <th>X7_Feature</th>\n",
       "      <th>Y_Display</th>\n",
       "    </tr>\n",
       "  </thead>\n",
       "  <tbody>\n",
       "    <tr>\n",
       "      <th>0</th>\n",
       "      <td>2.0</td>\n",
       "      <td>20.20</td>\n",
       "      <td>47400</td>\n",
       "      <td>36</td>\n",
       "      <td>72.0</td>\n",
       "      <td>CORA</td>\n",
       "      <td>No_Feat</td>\n",
       "      <td>No_Displ</td>\n",
       "    </tr>\n",
       "    <tr>\n",
       "      <th>1</th>\n",
       "      <td>2.0</td>\n",
       "      <td>11.90</td>\n",
       "      <td>62000</td>\n",
       "      <td>24</td>\n",
       "      <td>48.0</td>\n",
       "      <td>LECLERC</td>\n",
       "      <td>No_Feat</td>\n",
       "      <td>No_Displ</td>\n",
       "    </tr>\n",
       "    <tr>\n",
       "      <th>2</th>\n",
       "      <td>8.0</td>\n",
       "      <td>29.52</td>\n",
       "      <td>60661</td>\n",
       "      <td>60</td>\n",
       "      <td>480.0</td>\n",
       "      <td>AUCHAN</td>\n",
       "      <td>No_Feat</td>\n",
       "      <td>No_Displ</td>\n",
       "    </tr>\n",
       "    <tr>\n",
       "      <th>3</th>\n",
       "      <td>2.0</td>\n",
       "      <td>16.20</td>\n",
       "      <td>59677</td>\n",
       "      <td>19</td>\n",
       "      <td>38.0</td>\n",
       "      <td>CARREFOUR</td>\n",
       "      <td>No_Feat</td>\n",
       "      <td>No_Displ</td>\n",
       "    </tr>\n",
       "    <tr>\n",
       "      <th>4</th>\n",
       "      <td>5.0</td>\n",
       "      <td>62.10</td>\n",
       "      <td>142602</td>\n",
       "      <td>50</td>\n",
       "      <td>250.0</td>\n",
       "      <td>CORA</td>\n",
       "      <td>No_Feat</td>\n",
       "      <td>No_Displ</td>\n",
       "    </tr>\n",
       "  </tbody>\n",
       "</table>\n",
       "</div>"
      ],
      "text/plain": [
       "   X1_cor_sales_in_vol  X2_cor_sales_in_val  X3_CA_mag  X4_value  \\\n",
       "0                  2.0                20.20      47400        36   \n",
       "1                  2.0                11.90      62000        24   \n",
       "2                  8.0                29.52      60661        60   \n",
       "3                  2.0                16.20      59677        19   \n",
       "4                  5.0                62.10     142602        50   \n",
       "\n",
       "   X6_VenteConv X5_ENSEIGNE X7_Feature Y_Display  \n",
       "0          72.0        CORA    No_Feat  No_Displ  \n",
       "1          48.0     LECLERC    No_Feat  No_Displ  \n",
       "2         480.0      AUCHAN    No_Feat  No_Displ  \n",
       "3          38.0   CARREFOUR    No_Feat  No_Displ  \n",
       "4         250.0        CORA    No_Feat  No_Displ  "
      ]
     },
     "execution_count": 2,
     "metadata": {},
     "output_type": "execute_result"
    }
   ],
   "source": [
    "df = pd.read_csv('../data/processed/sales_cleaned.csv')\n",
    "df.head()"
   ]
  },
  {
   "cell_type": "markdown",
   "metadata": {},
   "source": [
    "## Preprocessing\n",
    "\n",
    "Before applying any machine learning model on our dataset, we'll want to compare between two versions of the data, one using the original numerical features, and one using a categorical version of these features, by binning them based on the information gain criterion. This process is called MDLPC.  \n",
    "Let's create our preprocessors to use in pipelines with ml models. We'll mainly have two:\n",
    "- OHE for categorical features followed by a standard scaler for the numerical features.\n",
    "- OHE for categorical features followed by a MDLP discretizer for the numerical features."
   ]
  },
  {
   "cell_type": "code",
   "execution_count": null,
   "metadata": {},
   "outputs": [],
   "source": []
  }
 ],
 "metadata": {
  "kernelspec": {
   "display_name": ".venv",
   "language": "python",
   "name": "python3"
  },
  "language_info": {
   "codemirror_mode": {
    "name": "ipython",
    "version": 3
   },
   "file_extension": ".py",
   "mimetype": "text/x-python",
   "name": "python",
   "nbconvert_exporter": "python",
   "pygments_lexer": "ipython3",
   "version": "3.11.5"
  }
 },
 "nbformat": 4,
 "nbformat_minor": 2
}
